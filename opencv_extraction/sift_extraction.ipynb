{
 "cells": [
  {
   "cell_type": "code",
   "execution_count": 3,
   "metadata": {
    "collapsed": false
   },
   "outputs": [],
   "source": [
    "import cv2\n",
    "import pandas as pd\n",
    "import os"
   ]
  },
  {
   "cell_type": "code",
   "execution_count": null,
   "metadata": {
    "collapsed": true
   },
   "outputs": [],
   "source": [
    "#path of the folder that contains all the train picture\n",
    "train_folder = '/home/mgaoh/datascience/roof_images/train_imgs/'\n",
    "\n",
    "dense = cv2.FeatureDetector_create(\"Dense\")\n",
    "sift = cv2.SIFT()\n",
    "cpt = 0\n",
    "#Looping through the train directory\n",
    "for root, directories, files in os.walk(train_folder):\n",
    "    for filename in files:\n",
    "        cpt = cpt + 1\n",
    "        if cpt % 100 == 0:\n",
    "            print cpt\n",
    "        #Reading the image\n",
    "        img = cv2.imread(os.path.join(root,filename))\n",
    "        #Denoizing it\n",
    "        #img = cv2.fastNlMeansDenoisingColored(img,None,10,10,7,21)\n",
    "        #Resizing it\n",
    "        img_resized = cv2.resize(img, (100,100))\n",
    "        #Transforming to gray scale\n",
    "        img_resized_gray = cv2.cvtColor(img_resized, cv2.COLOR_BGR2GRAY)\n",
    "        #Detecting the sift keypoints on the gray scale picture\n",
    "        kp = dense.detect(img_resized_gray)\n",
    "        #Computing the sift descriptors values\n",
    "        kp, des = sift.compute(img_resized_gray, kp)\n",
    "        if len(kp) == 0:\n",
    "            print('PAS DE SIFT POUR IMG: ' + filename)\n",
    "        #Concatenating all the sift descriptors in a dataframe train_sifts\n",
    "        if cpt == 1:\n",
    "            train_sifts = pd.DataFrame(des)\n",
    "            train_sifts['Id'] = filename[:-4] # Id of the picture\n",
    "        else:\n",
    "            sifts = pd.DataFrame(des)\n",
    "            sifts['Id'] = filename[:-4]\n",
    "            train_sifts = pd.concat([train_sifts, sifts])\n",
    "\n",
    "#Writing the dataframe to a csv file\n",
    "train_sifts.to_csv(\"train_sifts_dense.csv\")"
   ]
  },
  {
   "cell_type": "code",
   "execution_count": 4,
   "metadata": {
    "collapsed": false
   },
   "outputs": [
    {
     "ename": "AttributeError",
     "evalue": "'module' object has no attribute 'FeatureDetector_create'",
     "output_type": "error",
     "traceback": [
      "\u001b[1;31m---------------------------------------------------------------------------\u001b[0m",
      "\u001b[1;31mAttributeError\u001b[0m                            Traceback (most recent call last)",
      "\u001b[1;32m<ipython-input-4-eae1657d384a>\u001b[0m in \u001b[0;36m<module>\u001b[1;34m()\u001b[0m\n\u001b[0;32m      4\u001b[0m \u001b[0mtest_folder\u001b[0m\u001b[1;33m=\u001b[0m \u001b[1;34m'/home/mgaoh/datascience/NewFolder/'\u001b[0m\u001b[1;33m\u001b[0m\u001b[0m\n\u001b[0;32m      5\u001b[0m \u001b[1;33m\u001b[0m\u001b[0m\n\u001b[1;32m----> 6\u001b[1;33m \u001b[0mdense\u001b[0m \u001b[1;33m=\u001b[0m \u001b[0mcv2\u001b[0m\u001b[1;33m.\u001b[0m\u001b[0mFeatureDetector_create\u001b[0m\u001b[1;33m(\u001b[0m\u001b[1;34m\"Dense\"\u001b[0m\u001b[1;33m)\u001b[0m\u001b[1;33m\u001b[0m\u001b[0m\n\u001b[0m\u001b[0;32m      7\u001b[0m \u001b[0msift\u001b[0m \u001b[1;33m=\u001b[0m \u001b[0mcv2\u001b[0m\u001b[1;33m.\u001b[0m\u001b[0mSIFT\u001b[0m\u001b[1;33m(\u001b[0m\u001b[1;33m)\u001b[0m\u001b[1;33m\u001b[0m\u001b[0m\n\u001b[0;32m      8\u001b[0m \u001b[0mcpt\u001b[0m \u001b[1;33m=\u001b[0m \u001b[1;36m0\u001b[0m\u001b[1;33m\u001b[0m\u001b[0m\n",
      "\u001b[1;31mAttributeError\u001b[0m: 'module' object has no attribute 'FeatureDetector_create'"
     ]
    }
   ],
   "source": [
    "#path of the folder that contains all the test picture\n",
    "\n",
    "#test_folder = '/home/mgaoh/datascience/roof_images/test_imgs/'\n",
    "\n",
    "test_folder= '/home/mgaoh/datascience/NewFolder/'\n",
    "\n",
    "dense = cv2.FeatureDetector_create(\"Dense\")\n",
    "sift = cv2.SIFT()\n",
    "cpt = 0\n",
    "#Looping through the train directory\n",
    "for root, directories, files in os.walk(test_folder):\n",
    "    for filename in files:\n",
    "        cpt = cpt + 1\n",
    "        if cpt % 100 == 0:\n",
    "            print cpt\n",
    "        #Reading the image\n",
    "        img = cv2.imread(os.path.join(root,filename))\n",
    "        #Denoizing it\n",
    "        #img = cv2.fastNlMeansDenoisingColored(img,None,10,10,7,21)\n",
    "        #Resizing it\n",
    "        img_resized = cv2.resize(img, (100,100))\n",
    "        #Transforming to gray scale\n",
    "        img_resized_gray = cv2.cvtColor(img_resized, cv2.COLOR_BGR2GRAY)\n",
    "        #Detecting the sift keypoints on the gray scale picture\n",
    "        kp = dense.detect(img_resized_gray)\n",
    "        #Computing the sift descriptors values\n",
    "        kp, des = sift.compute(img_resized_gray, kp)\n",
    "        if len(kp) == 0:\n",
    "            print('PAS DE SIFT POUR IMG: ' + filename)\n",
    "        #Concatenating all the sift descriptors in a dataframe train_sifts\n",
    "        if cpt == 1:\n",
    "            test_sifts = pd.DataFrame(des)\n",
    "            test_sifts['Id'] = filename[:-4] # Id of the picture\n",
    "        else:\n",
    "            sifts = pd.DataFrame(des)\n",
    "            sifts['Id'] = filename[:-4]\n",
    "            train_sifts = pd.concat([train_sifts, sifts])"
   ]
  },
  {
   "cell_type": "code",
   "execution_count": null,
   "metadata": {
    "collapsed": true
   },
   "outputs": [],
   "source": [
    "#Writing the dataframe to a csv file\n",
    "test_sifts.to_csv(\"train_sifts_dense.csv\")"
   ]
  }
 ],
 "metadata": {
  "kernelspec": {
   "display_name": "Python 2",
   "language": "python",
   "name": "python2"
  },
  "language_info": {
   "codemirror_mode": {
    "name": "ipython",
    "version": 2
   },
   "file_extension": ".py",
   "mimetype": "text/x-python",
   "name": "python",
   "nbconvert_exporter": "python",
   "pygments_lexer": "ipython2",
   "version": "2.7.11"
  }
 },
 "nbformat": 4,
 "nbformat_minor": 0
}
