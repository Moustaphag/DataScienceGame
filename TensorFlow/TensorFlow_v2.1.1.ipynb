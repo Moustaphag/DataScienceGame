{
 "cells": [
  {
   "cell_type": "code",
   "execution_count": 1,
   "metadata": {
    "collapsed": false
   },
   "outputs": [],
   "source": [
    "import pandas as pd\n",
    "import numpy as np\n",
    "from tflearn.data_utils import build_hdf5_image_dataset\n",
    "import h5py\n",
    "from tflearn.data_utils import shuffle\n",
    "from tflearn.layers.core import input_data, dropout, fully_connected\n",
    "from tflearn.layers.conv import conv_2d, max_pool_2d\n",
    "from tflearn.layers.estimator import regression\n",
    "from tflearn.data_preprocessing import ImagePreprocessing\n",
    "from tflearn.data_augmentation import ImageAugmentation\n",
    "import tflearn"
   ]
  },
  {
   "cell_type": "markdown",
   "metadata": {},
   "source": [
    "The train and test dataset are already build"
   ]
  },
  {
   "cell_type": "markdown",
   "metadata": {
    "collapsed": false,
    "scrolled": true
   },
   "source": [
    "####Build the dataset (only required once)\n",
    "id_train = pd.read_csv('../Data/id_train.csv')#replace by path of the id_train file \n",
    "file = pd.DataFrame(id_train['Id'].apply(lambda x: './train_imgs/' + str(x) + '.jpg' ))#Build the path to each image\n",
    "file['label'] = id_train['label'] - 1 #Label goes from 1 to 4, we want 0 to 3 \n",
    "file.to_csv('file_train.csv', sep = ' ', header = False, index=False)\n",
    "dataset_file = 'file_train.csv'\n",
    "build_hdf5_image_dataset(dataset_file, image_shape=(32, 32), mode='file', output_path='dataset.h5', categorical_labels=True, normalize=True)"
   ]
  },
  {
   "cell_type": "markdown",
   "metadata": {},
   "source": [
    "Loading the Dataset"
   ]
  },
  {
   "cell_type": "code",
   "execution_count": 2,
   "metadata": {
    "collapsed": false
   },
   "outputs": [],
   "source": [
    "#Loading the dataset\n",
    "h5f = h5py.File('train32_dataset.h5', 'r')\n",
    "X  = h5f['X']\n",
    "Y = h5f['Y']"
   ]
  },
  {
   "cell_type": "code",
   "execution_count": 3,
   "metadata": {
    "collapsed": false
   },
   "outputs": [],
   "source": [
    "# Shuffle the data\n",
    "X, Y = shuffle(X, Y)"
   ]
  },
  {
   "cell_type": "code",
   "execution_count": 4,
   "metadata": {
    "collapsed": false,
    "scrolled": true
   },
   "outputs": [
    {
     "data": {
      "text/plain": [
       "(8000, 32, 32, 3)"
      ]
     },
     "execution_count": 4,
     "metadata": {},
     "output_type": "execute_result"
    }
   ],
   "source": [
    "X.shape"
   ]
  },
  {
   "cell_type": "code",
   "execution_count": 5,
   "metadata": {
    "collapsed": false
   },
   "outputs": [
    {
     "data": {
      "text/plain": [
       "(8000, 4)"
      ]
     },
     "execution_count": 5,
     "metadata": {},
     "output_type": "execute_result"
    }
   ],
   "source": [
    "Y.shape"
   ]
  },
  {
   "cell_type": "code",
   "execution_count": 6,
   "metadata": {
    "collapsed": false
   },
   "outputs": [],
   "source": [
    "# Make sure the data is normalized\n",
    "img_prep = ImagePreprocessing()\n",
    "img_prep.add_featurewise_zero_center()\n",
    "img_prep.add_featurewise_stdnorm()"
   ]
  },
  {
   "cell_type": "code",
   "execution_count": 7,
   "metadata": {
    "collapsed": true
   },
   "outputs": [],
   "source": [
    "# Create extra synthetic training data by flipping, rotating and blurring the images on our data set.\n",
    "img_aug = ImageAugmentation()\n",
    "#img_aug.add_random_flip_leftright() #Flipping will make \n",
    "img_aug.add_random_rotation(max_angle=25.)\n",
    "img_aug.add_random_blur(sigma_max=3.)"
   ]
  },
  {
   "cell_type": "markdown",
   "metadata": {},
   "source": [
    "Building the network"
   ]
  },
  {
   "cell_type": "code",
   "execution_count": 8,
   "metadata": {
    "collapsed": true
   },
   "outputs": [],
   "source": [
    "network = input_data(shape=[None, 32, 32, 3],\n",
    "                     data_preprocessing=img_prep,\n",
    "                     data_augmentation=img_aug)\n",
    "\n",
    "# Step 1: Convolution\n",
    "network = conv_2d(network, 32, 3, activation='relu')\n",
    "\n",
    "# Step 2: Max pooling\n",
    "network = max_pool_2d(network, 4)\n",
    "\n",
    "# Step 3: Convolution again\n",
    "network = conv_2d(network, 64, 3, activation='relu')\n",
    "\n",
    "# Step 4: Convolution yet again\n",
    "network = conv_2d(network, 64, 3, activation='relu')\n",
    "\n",
    "# Step 5: Max pooling again\n",
    "network = max_pool_2d(network, 4)\n",
    "\n",
    "# Step 6: Fully-connected 512 node neural network\n",
    "network = fully_connected(network, 128, activation='relu')\n",
    "\n",
    "# Step 7: Dropout - throw away some data randomly during training to prevent over-fitting\n",
    "network = dropout(network, 0.5)\n",
    "\n",
    "# Step 8: Fully-connected neural network with two outputs (0=isn't a bird, 1=is a bird) to make the final prediction\n",
    "network = fully_connected(network, 4, activation='softmax')"
   ]
  },
  {
   "cell_type": "code",
   "execution_count": 9,
   "metadata": {
    "collapsed": false
   },
   "outputs": [],
   "source": [
    "# Tell tflearn how we want to train the network\n",
    "network = regression(network, optimizer='adam',\n",
    "                     loss='categorical_crossentropy', n_classes = 4,learning_rate=0.01)"
   ]
  },
  {
   "cell_type": "code",
   "execution_count": 10,
   "metadata": {
    "collapsed": false,
    "scrolled": true
   },
   "outputs": [],
   "source": [
    "# Wrap the network in a model object\n",
    "model = tflearn.DNN(network, tensorboard_verbose=0)"
   ]
  },
  {
   "cell_type": "markdown",
   "metadata": {},
   "source": [
    "Training the model"
   ]
  },
  {
   "cell_type": "code",
   "execution_count": 11,
   "metadata": {
    "collapsed": true
   },
   "outputs": [],
   "source": [
    "epochs = 1000"
   ]
  },
  {
   "cell_type": "code",
   "execution_count": 18,
   "metadata": {
    "collapsed": false
   },
   "outputs": [
    {
     "name": "stdout",
     "output_type": "stream",
     "text": [
      "Training Step: 84080  | total loss: \u001b[1m\u001b[32m0.77701\u001b[0m\u001b[0m\n",
      "| Adam | epoch: 100 | loss: 0.77701 - acc: 0.6904 | val_loss: 0.70953 - val_acc: 0.7271 -- iter: 5600/5600\n",
      "Training Step: 84080  | total loss: \u001b[1m\u001b[32m0.77701\u001b[0m\u001b[0m\n",
      "| Adam | epoch: 100 | loss: 0.77701 - acc: 0.6904 | val_loss: 0.70953 - val_acc: 0.7271 -- iter: 5600/5600\n",
      "--\n",
      "Network trained and saved as roof-classifier.tfl!\n"
     ]
    }
   ],
   "source": [
    "model.fit(X, Y, n_epoch=100, shuffle=True,\n",
    "          show_metric=True, batch_size=96,\n",
    "          snapshot_epoch=True,\n",
    "run_id='roof-classifier', validation_set=0.3)\n",
    "model.save(\"roof-classifier-epoch1000-lr0.01.tfl\")\n",
    "print(\"Network trained and saved as roof-classifier.tfl!\")"
   ]
  },
  {
   "cell_type": "markdown",
   "metadata": {},
   "source": [
    "Prediction"
   ]
  },
  {
   "cell_type": "code",
   "execution_count": null,
   "metadata": {
    "collapsed": true
   },
   "outputs": [],
   "source": []
  }
 ],
 "metadata": {
  "kernelspec": {
   "display_name": "Python 2",
   "language": "python",
   "name": "python2"
  },
  "language_info": {
   "codemirror_mode": {
    "name": "ipython",
    "version": 2
   },
   "file_extension": ".py",
   "mimetype": "text/x-python",
   "name": "python",
   "nbconvert_exporter": "python",
   "pygments_lexer": "ipython2",
   "version": "2.7.12"
  }
 },
 "nbformat": 4,
 "nbformat_minor": 0
}
